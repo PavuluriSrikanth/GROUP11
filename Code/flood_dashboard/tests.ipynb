{
 "cells": [
  {
   "cell_type": "code",
   "execution_count": 30,
   "id": "52150316",
   "metadata": {},
   "outputs": [],
   "source": [
    "import os\n",
    "import pytest\n",
    "import pandas as pd\n",
    "import numpy as np\n"
   ]
  },
  {
   "cell_type": "code",
   "execution_count": 11,
   "id": "9245b869",
   "metadata": {},
   "outputs": [],
   "source": [
    "data = pd.read_csv('demo.csv')"
   ]
  },
  {
   "cell_type": "code",
   "execution_count": 12,
   "id": "55086262",
   "metadata": {},
   "outputs": [
    {
     "data": {
      "text/html": [
       "<div>\n",
       "<style scoped>\n",
       "    .dataframe tbody tr th:only-of-type {\n",
       "        vertical-align: middle;\n",
       "    }\n",
       "\n",
       "    .dataframe tbody tr th {\n",
       "        vertical-align: top;\n",
       "    }\n",
       "\n",
       "    .dataframe thead th {\n",
       "        text-align: right;\n",
       "    }\n",
       "</style>\n",
       "<table border=\"1\" class=\"dataframe\">\n",
       "  <thead>\n",
       "    <tr style=\"text-align: right;\">\n",
       "      <th></th>\n",
       "      <th>Unnamed: 0</th>\n",
       "      <th>STATE_UT_NAME</th>\n",
       "      <th>JAN</th>\n",
       "      <th>FEB</th>\n",
       "      <th>MAR</th>\n",
       "      <th>APR</th>\n",
       "      <th>MAY</th>\n",
       "      <th>JUN</th>\n",
       "      <th>JUL</th>\n",
       "      <th>AUG</th>\n",
       "      <th>...</th>\n",
       "      <th>NOV</th>\n",
       "      <th>DEC</th>\n",
       "      <th>ANNUAL</th>\n",
       "      <th>Jan-Feb</th>\n",
       "      <th>Mar-May</th>\n",
       "      <th>Jun-Sep</th>\n",
       "      <th>Oct-Dec</th>\n",
       "      <th>flood</th>\n",
       "      <th>Avg_june10days</th>\n",
       "      <th>maytojune</th>\n",
       "    </tr>\n",
       "  </thead>\n",
       "  <tbody>\n",
       "    <tr>\n",
       "      <th>0</th>\n",
       "      <td>0</td>\n",
       "      <td>ANDAMAN And NICOBAR ISLANDS</td>\n",
       "      <td>107.3</td>\n",
       "      <td>57.9</td>\n",
       "      <td>65.2</td>\n",
       "      <td>117.0</td>\n",
       "      <td>358.5</td>\n",
       "      <td>295.5</td>\n",
       "      <td>285.0</td>\n",
       "      <td>271.9</td>\n",
       "      <td>...</td>\n",
       "      <td>315.2</td>\n",
       "      <td>250.9</td>\n",
       "      <td>2805.2</td>\n",
       "      <td>165.2</td>\n",
       "      <td>540.7</td>\n",
       "      <td>1207.2</td>\n",
       "      <td>892.1</td>\n",
       "      <td>0</td>\n",
       "      <td>98.500000</td>\n",
       "      <td>63.0</td>\n",
       "    </tr>\n",
       "    <tr>\n",
       "      <th>1</th>\n",
       "      <td>1</td>\n",
       "      <td>ANDAMAN And NICOBAR ISLANDS</td>\n",
       "      <td>43.7</td>\n",
       "      <td>26.0</td>\n",
       "      <td>18.6</td>\n",
       "      <td>90.5</td>\n",
       "      <td>374.4</td>\n",
       "      <td>457.2</td>\n",
       "      <td>421.3</td>\n",
       "      <td>423.1</td>\n",
       "      <td>...</td>\n",
       "      <td>275.8</td>\n",
       "      <td>128.3</td>\n",
       "      <td>3015.7</td>\n",
       "      <td>69.7</td>\n",
       "      <td>483.5</td>\n",
       "      <td>1757.2</td>\n",
       "      <td>705.3</td>\n",
       "      <td>0</td>\n",
       "      <td>152.400000</td>\n",
       "      <td>82.8</td>\n",
       "    </tr>\n",
       "    <tr>\n",
       "      <th>2</th>\n",
       "      <td>2</td>\n",
       "      <td>ANDAMAN And NICOBAR ISLANDS</td>\n",
       "      <td>32.7</td>\n",
       "      <td>15.9</td>\n",
       "      <td>8.6</td>\n",
       "      <td>53.4</td>\n",
       "      <td>343.6</td>\n",
       "      <td>503.3</td>\n",
       "      <td>465.4</td>\n",
       "      <td>460.9</td>\n",
       "      <td>...</td>\n",
       "      <td>198.6</td>\n",
       "      <td>100.0</td>\n",
       "      <td>2913.3</td>\n",
       "      <td>48.6</td>\n",
       "      <td>405.6</td>\n",
       "      <td>1884.4</td>\n",
       "      <td>574.7</td>\n",
       "      <td>0</td>\n",
       "      <td>167.766667</td>\n",
       "      <td>159.7</td>\n",
       "    </tr>\n",
       "    <tr>\n",
       "      <th>3</th>\n",
       "      <td>3</td>\n",
       "      <td>ARUNACHAL PRADESH</td>\n",
       "      <td>42.2</td>\n",
       "      <td>80.8</td>\n",
       "      <td>176.4</td>\n",
       "      <td>358.5</td>\n",
       "      <td>306.4</td>\n",
       "      <td>447.0</td>\n",
       "      <td>660.1</td>\n",
       "      <td>427.8</td>\n",
       "      <td>...</td>\n",
       "      <td>34.1</td>\n",
       "      <td>29.8</td>\n",
       "      <td>3043.8</td>\n",
       "      <td>123.0</td>\n",
       "      <td>841.3</td>\n",
       "      <td>1848.5</td>\n",
       "      <td>231.0</td>\n",
       "      <td>0</td>\n",
       "      <td>149.000000</td>\n",
       "      <td>140.6</td>\n",
       "    </tr>\n",
       "    <tr>\n",
       "      <th>4</th>\n",
       "      <td>4</td>\n",
       "      <td>ARUNACHAL PRADESH</td>\n",
       "      <td>33.3</td>\n",
       "      <td>79.5</td>\n",
       "      <td>105.9</td>\n",
       "      <td>216.5</td>\n",
       "      <td>323.0</td>\n",
       "      <td>738.3</td>\n",
       "      <td>990.9</td>\n",
       "      <td>711.2</td>\n",
       "      <td>...</td>\n",
       "      <td>29.5</td>\n",
       "      <td>31.7</td>\n",
       "      <td>4034.7</td>\n",
       "      <td>112.8</td>\n",
       "      <td>645.4</td>\n",
       "      <td>3008.4</td>\n",
       "      <td>268.1</td>\n",
       "      <td>1</td>\n",
       "      <td>246.100000</td>\n",
       "      <td>415.3</td>\n",
       "    </tr>\n",
       "  </tbody>\n",
       "</table>\n",
       "<p>5 rows × 22 columns</p>\n",
       "</div>"
      ],
      "text/plain": [
       "   Unnamed: 0                STATE_UT_NAME    JAN   FEB    MAR    APR    MAY  \\\n",
       "0           0  ANDAMAN And NICOBAR ISLANDS  107.3  57.9   65.2  117.0  358.5   \n",
       "1           1  ANDAMAN And NICOBAR ISLANDS   43.7  26.0   18.6   90.5  374.4   \n",
       "2           2  ANDAMAN And NICOBAR ISLANDS   32.7  15.9    8.6   53.4  343.6   \n",
       "3           3            ARUNACHAL PRADESH   42.2  80.8  176.4  358.5  306.4   \n",
       "4           4            ARUNACHAL PRADESH   33.3  79.5  105.9  216.5  323.0   \n",
       "\n",
       "     JUN    JUL    AUG  ...    NOV    DEC  ANNUAL  Jan-Feb  Mar-May  Jun-Sep  \\\n",
       "0  295.5  285.0  271.9  ...  315.2  250.9  2805.2    165.2    540.7   1207.2   \n",
       "1  457.2  421.3  423.1  ...  275.8  128.3  3015.7     69.7    483.5   1757.2   \n",
       "2  503.3  465.4  460.9  ...  198.6  100.0  2913.3     48.6    405.6   1884.4   \n",
       "3  447.0  660.1  427.8  ...   34.1   29.8  3043.8    123.0    841.3   1848.5   \n",
       "4  738.3  990.9  711.2  ...   29.5   31.7  4034.7    112.8    645.4   3008.4   \n",
       "\n",
       "   Oct-Dec  flood  Avg_june10days  maytojune  \n",
       "0    892.1      0       98.500000       63.0  \n",
       "1    705.3      0      152.400000       82.8  \n",
       "2    574.7      0      167.766667      159.7  \n",
       "3    231.0      0      149.000000      140.6  \n",
       "4    268.1      1      246.100000      415.3  \n",
       "\n",
       "[5 rows x 22 columns]"
      ]
     },
     "execution_count": 12,
     "metadata": {},
     "output_type": "execute_result"
    }
   ],
   "source": [
    "data.head()\n"
   ]
  },
  {
   "cell_type": "code",
   "execution_count": 13,
   "id": "f4217b31",
   "metadata": {},
   "outputs": [
    {
     "data": {
      "text/plain": [
       "Index(['Unnamed: 0', 'STATE_UT_NAME', 'JAN', 'FEB', 'MAR', 'APR', 'MAY', 'JUN',\n",
       "       'JUL', 'AUG', 'SEP', 'OCT', 'NOV', 'DEC', 'ANNUAL', 'Jan-Feb',\n",
       "       'Mar-May', 'Jun-Sep', 'Oct-Dec', 'flood', 'Avg_june10days',\n",
       "       'maytojune'],\n",
       "      dtype='object')"
      ]
     },
     "execution_count": 13,
     "metadata": {},
     "output_type": "execute_result"
    }
   ],
   "source": [
    "data.columns"
   ]
  },
  {
   "cell_type": "code",
   "execution_count": 55,
   "id": "0c727126",
   "metadata": {
    "scrolled": true
   },
   "outputs": [],
   "source": [
    "def test_data_columns():\n",
    "    data = pd.read_csv('demo.csv')\n",
    "    assert all(data.columns == ['Unnamed: 0', 'STATE_UT_NAME', 'JAN', 'FEB', 'MAR', 'APR', 'MAY', 'JUN',\n",
    "       'JUL', 'AUG', 'SEP', 'OCT', 'NOV', 'DEC', 'ANNUAL', 'Jan-Feb',\n",
    "       'Mar-May', 'Jun-Sep', 'Oct-Dec', 'flood', 'Avg_june10days',\n",
    "       'maytojune'])\n",
    "            assert isinstance (data.index, pd.Datetimeindex)"
   ]
  },
  {
   "cell_type": "code",
   "execution_count": 56,
   "id": "ffeea6ff",
   "metadata": {},
   "outputs": [],
   "source": [
    "test_data_columns()"
   ]
  },
  {
   "cell_type": "code",
   "execution_count": 59,
   "id": "cbca1e4e",
   "metadata": {},
   "outputs": [],
   "source": [
    "def test_data_missingcolumns():\n",
    "    data = pd.read_csv('demo.csv')\n",
    "    assert all(data.columns == ['Unnamed: 0', 'STATE_UT_NAME', 'JAN', 'FEB', 'MAR', 'APR', 'MAY', 'JUN',\n",
    "       'JUL', 'AUG', 'SEP', 'OCT', 'NOV', 'DEC', 'ANNUAL', 'Jan-Feb',\n",
    "       'Mar-May', 'Jun-Sep', 'Oct-Dec', 'flood', 'Avg_june10days',\n",
    "       'maytojune'])\n",
    "    \n",
    "    \n",
    "   "
   ]
  },
  {
   "cell_type": "code",
   "execution_count": 60,
   "id": "9c47728d",
   "metadata": {},
   "outputs": [],
   "source": [
    "test_data_missingcolumns()"
   ]
  },
  {
   "cell_type": "code",
   "execution_count": null,
   "id": "db312fdd",
   "metadata": {},
   "outputs": [],
   "source": [
    " def test_"
   ]
  }
 ],
 "metadata": {
  "kernelspec": {
   "display_name": "Python 3 (ipykernel)",
   "language": "python",
   "name": "python3"
  },
  "language_info": {
   "codemirror_mode": {
    "name": "ipython",
    "version": 3
   },
   "file_extension": ".py",
   "mimetype": "text/x-python",
   "name": "python",
   "nbconvert_exporter": "python",
   "pygments_lexer": "ipython3",
   "version": "3.9.7"
  }
 },
 "nbformat": 4,
 "nbformat_minor": 5
}
